{
 "cells": [
  {
   "cell_type": "markdown",
   "id": "7642f34b",
   "metadata": {},
   "source": [
    "# How to set up a simple fitting procedure with scipy.optimize\n",
    "\n",
    "For this case, we'll examine fake data that follows a linear trend  ($y = mx + b$) and fit it."
   ]
  },
  {
   "cell_type": "code",
   "execution_count": 1,
   "id": "9501d09b",
   "metadata": {},
   "outputs": [],
   "source": [
    "import numpy as np\n",
    "import matplotlib.pyplot as plt\n",
    "import scipy.optimize"
   ]
  },
  {
   "cell_type": "markdown",
   "id": "0932a10e",
   "metadata": {},
   "source": [
    "## First, load your dataset\n",
    "\n",
    "In this case, I'm going to simulate a light curve with Poisson (counting) statistics."
   ]
  },
  {
   "cell_type": "code",
   "execution_count": 2,
   "id": "e132c694",
   "metadata": {},
   "outputs": [
    {
     "data": {
      "text/plain": [
       "Text(0, 0.5, 'y')"
      ]
     },
     "execution_count": 2,
     "metadata": {},
     "output_type": "execute_result"
    },
    {
     "data": {
      "image/png": "[encoded data removed]",
      "text/plain": [
       "<Figure size 432x288 with 1 Axes>"
      ]
     },
     "metadata": {
      "needs_background": "light"
     },
     "output_type": "display_data"
    }
   ],
   "source": [
    "M0, B0 = 0.0, 10.0 # True m and b values for the data\n",
    "\n",
    "x = np.linspace(0, 10, 20) # \"time\" dimension for light curve\n",
    "truth = M0 * x + B0 # the true trend that our data will follow\n",
    "\n",
    "y = np.random.poisson(truth)\n",
    "yerr = np.sqrt(y)\n",
    "\n",
    "plt.errorbar(x, y, yerr, color='k', marker='o', ls='')\n",
    "plt.plot(x, truth, color='b')\n",
    "plt.xlabel('x')\n",
    "plt.ylabel('y')"
   ]
  },
  {
   "cell_type": "markdown",
   "id": "a3360698",
   "metadata": {},
   "source": [
    "## Now you can fit"
   ]
  },
  {
   "cell_type": "code",
   "execution_count": 3,
   "id": "5117db3e",
   "metadata": {},
   "outputs": [
    {
     "name": "stdout",
     "output_type": "stream",
     "text": [
      "[-0.09619001 10.36474969]\n",
      "1.5180003977350123\n"
     ]
    },
    {
     "data": {
      "text/plain": [
       "Text(0, 0.5, 'y')"
      ]
     },
     "execution_count": 3,
     "metadata": {},
     "output_type": "execute_result"
    },
    {
     "data": {
      "image/png": "[encoded data removed]",
      "text/plain": [
       "<Figure size 432x288 with 1 Axes>"
      ]
     },
     "metadata": {
      "needs_background": "light"
     },
     "output_type": "display_data"
    }
   ],
   "source": [
    "# Step 1: Define your model\n",
    "def my_model(pars):\n",
    "    m, b = pars\n",
    "    return m * x + b\n",
    "\n",
    "# Step 2: Define the fit statistic you want to use\n",
    "# In this case, we're using reduced chi-squared\n",
    "def my_chisq(pars):\n",
    "    model = my_model(pars)\n",
    "    return np.sum((y - model)**2 / (yerr)**2 / (len(x) - len(pars)))\n",
    "\n",
    "# Step 3: Define the optimization method you want to use\n",
    "p0 = [1.0, 5.0] # initial guess for the parameters\n",
    "pbest = scipy.optimize.minimize(my_chisq, p0)\n",
    "\n",
    "# Print the parameters that worked best\n",
    "print(pbest.x)\n",
    "\n",
    "# Print the reduced chi-squared from this fit\n",
    "print(my_chisq(pbest.x))\n",
    "\n",
    "plt.errorbar(x, y, yerr, marker='o', ls='', color='k', label='data')\n",
    "plt.plot(x, truth, color='b', label='truth')\n",
    "plt.plot(x, my_model(p0), color='orange', label='initial guess')\n",
    "plt.plot(x, my_model(pbest.x), color='r', label='best fit')\n",
    "plt.legend()\n",
    "plt.xlabel('x')\n",
    "plt.ylabel('y')"
   ]
  },
  {
   "cell_type": "code",
   "execution_count": null,
   "id": "ddbe71f8",
   "metadata": {},
   "outputs": [],
   "source": []
  }
 ],
 "metadata": {
  "kernelspec": {
   "display_name": "Python 3 (ipykernel)",
   "language": "python",
   "name": "python3"
  },
  "language_info": {
   "codemirror_mode": {
    "name": "ipython",
    "version": 3
   },
   "file_extension": ".py",
   "mimetype": "text/x-python",
   "name": "python",
   "nbconvert_exporter": "python",
   "pygments_lexer": "ipython3",
   "version": "3.9.7"
  }
 },
 "nbformat": 4,
 "nbformat_minor": 5
}
